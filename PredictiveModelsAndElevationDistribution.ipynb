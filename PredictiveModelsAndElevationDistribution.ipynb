{
 "cells": [
  {
   "cell_type": "code",
   "execution_count": 2,
   "metadata": {},
   "outputs": [
    {
     "name": "stdout",
     "output_type": "stream",
     "text": [
      "<class 'pandas.core.frame.DataFrame'>\n",
      "RangeIndex: 565890 entries, 0 to 565889\n",
      "Data columns (total 55 columns):\n",
      "Elevation                             565890 non-null int64\n",
      "aspect                                565890 non-null int64\n",
      "slope                                 565890 non-null int64\n",
      "horizontal_distance_to_hydrology      565890 non-null int64\n",
      "vertical_distance_to_hydrology        565890 non-null int64\n",
      "Horizontal_Distance_To_Roadways       565890 non-null int64\n",
      "Hillshade_9am                         565890 non-null int64\n",
      "Hillshade_Noon                        565890 non-null int64\n",
      "Hillshade_3pm                         565890 non-null int64\n",
      "Horizontal_Distance_To_Fire_Points    565890 non-null int64\n",
      "Wilderness_Area_1                     565890 non-null int64\n",
      "Wilderness_Area_2                     565890 non-null int64\n",
      "Wilderness_Area_3                     565890 non-null int64\n",
      "Wilderness_Area_4                     565890 non-null int64\n",
      "Soil_Type_1                           565890 non-null int64\n",
      "Soil_Type_2                           565890 non-null int64\n",
      "Soil_Type_3                           565890 non-null int64\n",
      "Soil_Type_4                           565890 non-null int64\n",
      "Soil_Type_5                           565890 non-null int64\n",
      "Soil_Type_6                           565890 non-null int64\n",
      "Soil_Type_7                           565890 non-null int64\n",
      "Soil_Type_8                           565890 non-null int64\n",
      "Soil_Type_9                           565890 non-null int64\n",
      "Soil_Type_10                          565890 non-null int64\n",
      "Soil_Type_11                          565890 non-null int64\n",
      "Soil_Type_12                          565890 non-null int64\n",
      "Soil_Type_13                          565890 non-null int64\n",
      "Soil_Type_14                          565890 non-null int64\n",
      "Soil_Type_15                          565890 non-null int64\n",
      "Soil_Type_16                          565890 non-null int64\n",
      "Soil_Type_17                          565890 non-null int64\n",
      "Soil_Type_18                          565890 non-null int64\n",
      "Soil_Type_19                          565890 non-null int64\n",
      "Soil_Type_20                          565890 non-null int64\n",
      "Soil_Type_21                          565890 non-null int64\n",
      "Soil_Type_22                          565890 non-null int64\n",
      "Soil_Type_23                          565890 non-null int64\n",
      "Soil_Type_24                          565890 non-null int64\n",
      "Soil_Type_25                          565890 non-null int64\n",
      "Soil_Type_26                          565890 non-null int64\n",
      "Soil_Type_27                          565890 non-null int64\n",
      "Soil_Type_28                          565890 non-null int64\n",
      "Soil_Type_29                          565890 non-null int64\n",
      "Soil_Type_30                          565890 non-null int64\n",
      "Soil_Type_31                          565890 non-null int64\n",
      "Soil_Type_32                          565890 non-null int64\n",
      "Soil_Type_33                          565890 non-null int64\n",
      "Soil_Type_34                          565890 non-null int64\n",
      "Soil_Type_35                          565890 non-null int64\n",
      "Soil_Type_36                          565890 non-null int64\n",
      "Soil_Type_37                          565890 non-null int64\n",
      "Soil_Type_38                          565890 non-null int64\n",
      "Soil_Type_39                          565890 non-null int64\n",
      "Soil_Type_40                          565890 non-null int64\n",
      "Cover_Type                            565890 non-null int64\n",
      "dtypes: int64(55)\n",
      "memory usage: 237.5 MB\n",
      "<class 'pandas.core.frame.DataFrame'>\n",
      "RangeIndex: 11339 entries, 0 to 11338\n",
      "Data columns (total 55 columns):\n",
      "Elevation                             11339 non-null int64\n",
      "aspect                                11339 non-null int64\n",
      "slope                                 11339 non-null int64\n",
      "horizontal_distance_to_hydrology      11339 non-null int64\n",
      "vertical_distance_to_hydrology        11339 non-null int64\n",
      "Horizontal_Distance_To_Roadways       11339 non-null int64\n",
      "Hillshade_9am                         11339 non-null int64\n",
      "Hillshade_Noon                        11339 non-null int64\n",
      "Hillshade_3pm                         11339 non-null int64\n",
      "Horizontal_Distance_To_Fire_Points    11339 non-null int64\n",
      "Wilderness_Area_1                     11339 non-null int64\n",
      "Wilderness_Area_2                     11339 non-null int64\n",
      "Wilderness_Area_3                     11339 non-null int64\n",
      "Wilderness_Area_4                     11339 non-null int64\n",
      "Soil_Type_1                           11339 non-null int64\n",
      "Soil_Type_2                           11339 non-null int64\n",
      "Soil_Type_3                           11339 non-null int64\n",
      "Soil_Type_4                           11339 non-null int64\n",
      "Soil_Type_5                           11339 non-null int64\n",
      "Soil_Type_6                           11339 non-null int64\n",
      "Soil_Type_7                           11339 non-null int64\n",
      "Soil_Type_8                           11339 non-null int64\n",
      "Soil_Type_9                           11339 non-null int64\n",
      "Soil_Type_10                          11339 non-null int64\n",
      "Soil_Type_11                          11339 non-null int64\n",
      "Soil_Type_12                          11339 non-null int64\n",
      "Soil_Type_13                          11339 non-null int64\n",
      "Soil_Type_14                          11339 non-null int64\n",
      "Soil_Type_15                          11339 non-null int64\n",
      "Soil_Type_16                          11339 non-null int64\n",
      "Soil_Type_17                          11339 non-null int64\n",
      "Soil_Type_18                          11339 non-null int64\n",
      "Soil_Type_19                          11339 non-null int64\n",
      "Soil_Type_20                          11339 non-null int64\n",
      "Soil_Type_21                          11339 non-null int64\n",
      "Soil_Type_22                          11339 non-null int64\n",
      "Soil_Type_23                          11339 non-null int64\n",
      "Soil_Type_24                          11339 non-null int64\n",
      "Soil_Type_25                          11339 non-null int64\n",
      "Soil_Type_26                          11339 non-null int64\n",
      "Soil_Type_27                          11339 non-null int64\n",
      "Soil_Type_28                          11339 non-null int64\n",
      "Soil_Type_29                          11339 non-null int64\n",
      "Soil_Type_30                          11339 non-null int64\n",
      "Soil_Type_31                          11339 non-null int64\n",
      "Soil_Type_32                          11339 non-null int64\n",
      "Soil_Type_33                          11339 non-null int64\n",
      "Soil_Type_34                          11339 non-null int64\n",
      "Soil_Type_35                          11339 non-null int64\n",
      "Soil_Type_36                          11339 non-null int64\n",
      "Soil_Type_37                          11339 non-null int64\n",
      "Soil_Type_38                          11339 non-null int64\n",
      "Soil_Type_39                          11339 non-null int64\n",
      "Soil_Type_40                          11339 non-null int64\n",
      "Cover_Type                            11339 non-null int64\n",
      "dtypes: int64(55)\n",
      "memory usage: 4.8 MB\n"
     ]
    },
    {
     "data": {
      "image/png": "[encoded data removed]",
      "text/plain": [
       "<Figure size 432x288 with 1 Axes>"
      ]
     },
     "metadata": {},
     "output_type": "display_data"
    }
   ],
   "source": [
    "import numpy as np # linear algebra\n",
    "import pandas as pd # data processing, CSV file I/O (e.g. pd.read_csv)\n",
    "pd.set_option('display.max_columns', 60)\n",
    "\n",
    "# for visualization\n",
    "from IPython.core.pylabtools import figsize\n",
    "from matplotlib import pyplot as plt\n",
    "%matplotlib inline\n",
    "# to include graphs inline within the frontends next to code\n",
    "import seaborn as sns\n",
    "sns.set_context(font_scale=2)\n",
    "sns.set(style=\"whitegrid\")\n",
    "\n",
    "# to bypass warnings in various dataframe assignments\n",
    "pd.options.mode.chained_assignment = None\n",
    "\n",
    "# machine learning models\n",
    "from sklearn.ensemble import RandomForestClassifier\n",
    "from sklearn.linear_model import LogisticRegression\n",
    "from sklearn.pipeline import Pipeline\n",
    "\n",
    "# preprocessing functions and evaluation models\n",
    "from sklearn.model_selection import train_test_split\n",
    "from sklearn.metrics import accuracy_score, classification_report\n",
    "from sklearn.preprocessing import StandardScaler\n",
    "\n",
    "\n",
    "dfTrain = pd.read_csv('covtype_data_training.csv')\n",
    "dfTest = pd.read_csv('covtype_data_testing.csv')\n",
    "\n",
    "columns= ['Elevation', 'aspect', 'slope', 'horizontal_distance_to_hydrology', \n",
    "       'vertical_distance_to_hydrology', 'Horizontal_Distance_To_Roadways', \n",
    "       'Hillshade_9am', 'Hillshade_Noon', 'Hillshade_3pm', 'Horizontal_Distance_To_Fire_Points',\n",
    "       'Wilderness_Area_1', 'Wilderness_Area_2', 'Wilderness_Area_3', 'Wilderness_Area_4', \n",
    "       'Soil_Type_1','Soil_Type_2','Soil_Type_3','Soil_Type_4','Soil_Type_5','Soil_Type_6','Soil_Type_7','Soil_Type_8','Soil_Type_9', 'Soil_Type_10', 'Soil_Type_11', 'Soil_Type_12', 'Soil_Type_13','Soil_Type_14',\n",
    "        'Soil_Type_15','Soil_Type_16','Soil_Type_17','Soil_Type_18','Soil_Type_19','Soil_Type_20','Soil_Type_21','Soil_Type_22','Soil_Type_23',\n",
    "        'Soil_Type_24','Soil_Type_25','Soil_Type_26','Soil_Type_27','Soil_Type_28','Soil_Type_29','Soil_Type_30','Soil_Type_31','Soil_Type_32','Soil_Type_33','Soil_Type_34','Soil_Type_35','Soil_Type_36','Soil_Type_37','Soil_Type_38','Soil_Type_39','Soil_Type_40', \n",
    "       'Cover_Type']\n",
    "\n",
    "dfTrain.columns = columns\n",
    "dfTest.columns = columns\n",
    "\n",
    "sns.countplot(data=dfTrain,x=dfTrain['Cover_Type'])\n",
    "yTest=dfTest['Cover_Type']\n",
    "y=dfTrain['Cover_Type']\n",
    "Elevation_Key = [2500, 2600, 2700, 2800, 2900, 3000, 3100, 3200, 3300, 3400]\n",
    "dfTest.info()\n",
    "dfTrain.info()\n"
   ]
  },
  {
   "cell_type": "code",
   "execution_count": 31,
   "metadata": {},
   "outputs": [
    {
     "data": {
      "text/plain": [
       "<matplotlib.axes._subplots.AxesSubplot at 0x1d78c113d48>"
      ]
     },
     "execution_count": 31,
     "metadata": {},
     "output_type": "execute_result"
    },
    {
     "data": {
      "image/png": "[encoded data removed]",
      "text/plain": [
       "<Figure size 468x468 with 1 Axes>"
      ]
     },
     "metadata": {},
     "output_type": "display_data"
    }
   ],
   "source": [
    "f, ax = plt.subplots(figsize=(6.5, 6.5))\n",
    "sns.despine(f, left=True, bottom=True)\n",
    "sns.scatterplot(x=\"Cover_Type\", y=\"Elevation\",\n",
    "               hue=\"Elevation\",\n",
    "               palette=\"ch:r=-.2,d=.3_r\",\n",
    "               hue_order=Elevation_Key,\n",
    "               sizes=(1, 8), linewidth=0,\n",
    "               data=dfTest, ax=ax)"
   ]
  },
  {
   "cell_type": "code",
   "execution_count": 32,
   "metadata": {},
   "outputs": [],
   "source": [
    "train = dfTrain.drop('Cover_Type', 1)\n",
    "test = dfTest.drop('Cover_Type', 1)"
   ]
  },
  {
   "cell_type": "code",
   "execution_count": 55,
   "metadata": {},
   "outputs": [],
   "source": [
    "x_train, x_test, y_train, y_test = train_test_split(test, yTest, test_size=0.98, random_state=72)"
   ]
  },
  {
   "cell_type": "code",
   "execution_count": 56,
   "metadata": {},
   "outputs": [],
   "source": [
    "rf=RandomForestClassifier(n_estimators=300, class_weight='balanced', n_jobs=2, random_state=72)\n"
   ]
  },
  {
   "cell_type": "code",
   "execution_count": 57,
   "metadata": {},
   "outputs": [
    {
     "data": {
      "text/plain": [
       "RandomForestClassifier(bootstrap=True, class_weight='balanced',\n",
       "                       criterion='gini', max_depth=None, max_features='auto',\n",
       "                       max_leaf_nodes=None, min_impurity_decrease=0.0,\n",
       "                       min_impurity_split=None, min_samples_leaf=1,\n",
       "                       min_samples_split=2, min_weight_fraction_leaf=0.0,\n",
       "                       n_estimators=300, n_jobs=2, oob_score=False,\n",
       "                       random_state=72, verbose=0, warm_start=False)"
      ]
     },
     "execution_count": 57,
     "metadata": {},
     "output_type": "execute_result"
    }
   ],
   "source": [
    "rf.fit(x_train, y_train)"
   ]
  },
  {
   "cell_type": "code",
   "execution_count": 58,
   "metadata": {},
   "outputs": [],
   "source": [
    "pred=rf.predict(x_test)"
   ]
  },
  {
   "cell_type": "code",
   "execution_count": 59,
   "metadata": {},
   "outputs": [
    {
     "name": "stdout",
     "output_type": "stream",
     "text": [
      "              precision    recall  f1-score   support\n",
      "\n",
      "           1       0.83      0.80      0.82    205484\n",
      "           2       0.82      0.89      0.86    275476\n",
      "           3       0.77      0.86      0.81     32946\n",
      "           4       0.64      0.10      0.18       575\n",
      "           5       0.81      0.21      0.33      7175\n",
      "           6       0.71      0.36      0.48     14928\n",
      "           7       0.91      0.65      0.76     17989\n",
      "\n",
      "    accuracy                           0.82    554573\n",
      "   macro avg       0.78      0.55      0.60    554573\n",
      "weighted avg       0.82      0.82      0.82    554573\n",
      "\n"
     ]
    }
   ],
   "source": [
    "acc=rf.score(x_test, y_test)\n",
    "report2 = classification_report(y_test, pred)\n",
    "print(report2)"
   ]
  },
  {
   "cell_type": "code",
   "execution_count": 60,
   "metadata": {},
   "outputs": [],
   "source": [
    "logisticReg = LogisticRegression(C=1, solver='lbfgs', max_iter=5000, \n",
    "                                 random_state=17, n_jobs=4,\n",
    "                                 multi_class='multinomial')"
   ]
  },
  {
   "cell_type": "code",
   "execution_count": 61,
   "metadata": {},
   "outputs": [],
   "source": [
    "logisticPipe = Pipeline([('scaler', StandardScaler()), ('logisticReg', logisticReg)])"
   ]
  },
  {
   "cell_type": "code",
   "execution_count": 62,
   "metadata": {},
   "outputs": [],
   "source": [
    "logisticPipe.fit(x_train, y_train)\n",
    "\n",
    "logisticValuePrediction = logisticPipe.predict(x_test)"
   ]
  },
  {
   "cell_type": "code",
   "execution_count": 63,
   "metadata": {},
   "outputs": [
    {
     "name": "stdout",
     "output_type": "stream",
     "text": [
      "              precision    recall  f1-score   support\n",
      "\n",
      "           1       0.71      0.70      0.71    205484\n",
      "           2       0.75      0.81      0.78    275476\n",
      "           3       0.70      0.83      0.76     32946\n",
      "           4       0.22      0.10      0.14       575\n",
      "           5       0.14      0.00      0.00      7175\n",
      "           6       0.49      0.20      0.29     14928\n",
      "           7       0.75      0.52      0.61     17989\n",
      "\n",
      "    accuracy                           0.73    554573\n",
      "   macro avg       0.54      0.45      0.47    554573\n",
      "weighted avg       0.72      0.73      0.72    554573\n",
      "\n"
     ]
    }
   ],
   "source": [
    "report = classification_report(y_test, logisticValuePrediction)\n",
    "print(report)"
   ]
  }
 ],
 "metadata": {
  "kernelspec": {
   "display_name": "Python 3",
   "language": "python",
   "name": "python3"
  },
  "language_info": {
   "codemirror_mode": {
    "name": "ipython",
    "version": 3
   },
   "file_extension": ".py",
   "mimetype": "text/x-python",
   "name": "python",
   "nbconvert_exporter": "python",
   "pygments_lexer": "ipython3",
   "version": "3.7.4"
  }
 },
 "nbformat": 4,
 "nbformat_minor": 2
}
